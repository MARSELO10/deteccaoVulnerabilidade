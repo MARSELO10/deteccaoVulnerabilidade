{
  "nbformat": 4,
  "nbformat_minor": 0,
  "metadata": {
    "colab": {
      "provenance": []
    },
    "kernelspec": {
      "name": "python3",
      "display_name": "Python 3"
    },
    "language_info": {
      "name": "python"
    }
  },
  "cells": [
    {
      "cell_type": "markdown",
      "source": [
        "# 1-"
      ],
      "metadata": {
        "id": "USFgdskPMxAo"
      }
    },
    {
      "cell_type": "code",
      "execution_count": null,
      "metadata": {
        "id": "SDnnGPXyJu0q"
      },
      "outputs": [],
      "source": [
        "import os\n",
        "import base64\n",
        "import tempfile\n",
        "from openai import AzureOpenAI\n",
        "from dotenv import load_dotenv\n",
        "from fastapi import FastAPI, UploadFile, Form, File\n",
        "from fastapi.responses import JSONResponse\n",
        "from pathlib import Path\n",
        "from fastapi.middleware.cors import CORSMiddleware"
      ]
    },
    {
      "cell_type": "markdown",
      "source": [
        "# 2-"
      ],
      "metadata": {
        "id": "r2V8wPaBM43n"
      }
    },
    {
      "cell_type": "code",
      "source": [
        "RE_OPENAI_API_KEY =                # Chave API\n",
        "RE_OPENAI_ENDPOINT =               # URL até antes do /openai\n",
        "RE_OPENAI_API_VERSION =            # Versão da API\n",
        "RE_OPENAI_DEPLOYMENT_NAME =        # Nome da implantação"
      ],
      "metadata": {
        "id": "Ib4SptnrM4RU"
      },
      "execution_count": null,
      "outputs": []
    },
    {
      "cell_type": "markdown",
      "source": [
        "# 3-"
      ],
      "metadata": {
        "id": "huAmfbRKMzo3"
      }
    },
    {
      "cell_type": "code",
      "source": [
        "env_path = Path(__file__).resolve(strict=True).parent / \".env\"\n",
        "load_dotenv(dotenv_path=env_path)\n",
        "\n",
        "# Carregar as variáveis de ambiente do arquivo . env\n",
        "AZURE_OPENAI_API_KEY = os.getenv(\"AZURE_OPENAI_API_KEY\")\n",
        "AZURE_OPENAI_ENDPOINT = os.getenv(\"AZURE_OPENAI_ENDPOINT\")\n",
        "AZURE_OPENAI_API_VERSION = os.getenv(\"AZURE_OPENAI_API_VERSION\")\n",
        "AZURE_OPENAI_DEPLOYMENT_NAME = os.getenv(\"AZURE_OPENAI_DEPLOYMENT_NAME\")\n",
        "\n",
        "# Configuração do FastAPI\n",
        "app = FastAPI()\n",
        "app.add_middleware(\n",
        "    CORSMiddleware,\n",
        "    allow_origins=[\"*\"],     # Permitir todas as origens\n",
        "    allow_credentials=True,\n",
        "    allow_methods=[\"*\"],     # Permitir todos os métodos\n",
        "    allow_headers=[\"*\"],     # Permitir todos os cabeçalhos\n",
        ")\n",
        "\n",
        "# Configuração do cliente OpenAI\n",
        "client = AzureOpenAI(\n",
        "    api_key=AZURE_OPENAI_API_KEY,\n",
        "    azure_endpoint=AZURE_OPENAI_ENDPOINT,\n",
        "    api_version=AZURE_OPENAI_API_VERSION,\n",
        "    azure_deployment=AZURE_OPENAI_DEPLOYMENT_NAME\n",
        ")\n",
        "\n",
        "def criar_prompt_modelo_ameacas(tipo_aplicacao,\n",
        "                                autenticacao,\n",
        "                                acesso_internet,\n",
        "                                dados_sensiveis,\n",
        "                                descricao_aplicacao):\n",
        "    prompt = f\"\"\"Aja como um especialista em cibersegurança com mais de 20 anos de experiência utilizando a metodologia de modelagem de ameaças STRIDE para produzir modelos de ameaças abrangentes para uma ampla gama de aplicações. Sua tarefa é analisar o resumo do código, o conteúdo do README e a descrição da aplicação fornecidas para produzir uma lista de ameaças especificas para essa aplicação.\n",
        "\n",
        "    Preste atenção na descrição da aplicação e nos detalhes técnicos fornecidos.\n",
        "\n",
        "    Para cada uma das categorias do STRIDE (Falsificação de Identidade - Spoofing, Violação de integridade - Tampering, Repúdio - repudiation, Divulgação de Informações - Information Disclosure, Negação de serviço - Denial of service, Elevação de Privilégio - Elevation of Privilege), liste múltiplas (3 ou 4) ameaças reais se aplicável. Cada cenário de ameaça deve apresentar uma situação plausivel em que a ameaça poderia ocorrer no contexto da aplicação.\n",
        "\n",
        "    A lista de ameaças deve ser apresentada em formato tabela, com as seguintes colunas: ao fornecer o modelo de ameaças, utilize uma resposta formato JSON com as chaves \"threat_model\" e \"improvement_suggestions\". Em \"threat_model\", inclua um array de objeto com as chaves \"Threat Type\" (Tipo de Ameaça), \"Scenario\" (cenário), e \"Potential impact\" (Impacto potencial).\n",
        "\n",
        "    Ao fornecer o modelo de ameaças, utilize um resposta formatada em JSON com as chaves \"threat_model\" e \"improvement-suggestions\". Em \"threat_model\", inclua um array de objetos com as chaves \"Threat Type\" (Tipo de ameaças), \"Scenario\" (Cenário), e \"Potencial impact\" (Impacto potencial).\n",
        "\n",
        "    Em \"improvement_suggestions\", inclua um array de strings que sugerem quais informações adicionais poderiam ser fornecidas para tornar o modelo de ameaças mais completo e preciso na próxima iteração. Foque em identificar lacunas na descrição da aplicação que, se preenchidas, permitiriam uma análise mais detalhada e precisa, como por exemplo:\n",
        "    - Detalhes arquiteturais ausentes que ajudariam a identificar ameaças mais especificas\n",
        "    - Fluxos de autenticação pouco claros que precisam de mais detalhes\n",
        "    - Descrição incompleta dos fluxos de dados\n",
        "    - informação técnica de stack não informadas\n",
        "    - Fronteiras ou zonas de confiança do sistema não especificadas\n",
        "    - descrição incompleta do tratamento de dados sensíveis\n",
        "\n",
        "    Não forneça recomendações de segurança genéricas - foque apenas no que ajudaria a criar um modelos de ameaças mais eficiente.\n",
        "\n",
        "    TIPO DE APLICAÇÃO: {tipo_aplicacao}\n",
        "    MÉTODOS DE AUTENTICAÇÃO: {autenticacao}\n",
        "    ACESSO A INTERNET: {acesso_internet}\n",
        "    DADOS SENSIVEIS: {dados_sensiveis}\n",
        "    RESUMO DE CÓDIGO, CONTEÚDO DO README E DESCRIÇÃO DA APLICAÇÃO: {descricao_aplicacao}\n",
        "\n",
        "    Exemplode formato esperado em JSON:\n",
        "\n",
        "        {{\n",
        "          \"threat_model\": [\n",
        "            {{\n",
        "              \"Threat Type\": \"Spoofing\",\n",
        "              \"Scenario\": \"Cenário de exemplo 1\",\n",
        "              \"Potential impact\": \"Impacto potencial de exemplo 1\"\n",
        "            }},\n",
        "            {{\n",
        "              \"Threat Type\": \"Tampering\",\n",
        "              \"Scenario\": \"Cenário de exemplo 2\",\n",
        "              \"Potential impact\": \"Impacto potencial de exemplo 2\"\n",
        "            }}\n",
        "            // ... mais ameaças\n",
        "          ],\n",
        "          \"improvement_suggestions\": [\n",
        "            \"Sugestão de melhoria 1\",\n",
        "            \"Sugestão de melhoria 2\",\n",
        "            // ... mais sugestões\n",
        "          ]\n",
        "        }}\"\"\"\n",
        "\n",
        "    return prompt"
      ],
      "metadata": {
        "id": "2MRwHraILVcS"
      },
      "execution_count": null,
      "outputs": []
    },
    {
      "cell_type": "markdown",
      "source": [
        "# 4-"
      ],
      "metadata": {
        "id": "G0C0JRxV32ox"
      }
    },
    {
      "cell_type": "code",
      "source": [
        "@app.post(\"/analisar_ameacas\")\n",
        "async def analisar_ameacas(\n",
        "    imagem:UploadFile = File(...),\n",
        "    tipo_aplicacao: str = Form(...),\n",
        "    autenticacao: str = Form(...),\n",
        "    acesso_internet: str = Form(...),\n",
        "    dados_sensiveis: str = Form(...),\n",
        "    descricao_aplicacao: str = Form(...)\n",
        "):\n",
        "    try:\n",
        "        # Criar prompt para o modelo de ameaças\n",
        "        prompt = criar_prompt_modelo_ameacas(tipo_aplicacao,\n",
        "                                             autenticacao,\n",
        "                                             acesso_internet,\n",
        "                                             dados_sensiveis,\n",
        "                                             descricao_aplicacao)\n",
        "\n",
        "        # Salvar a imagem temporariamente\n",
        "        with tempfile.NamedTemporaryFile(delete=False, suffix=Path(imagem.filename).suffix) as temp_file:\n",
        "            content = await imagem.read()\n",
        "            temp_file.write(await imagem.read())\n",
        "            temp_file_path = temp_file.name\n",
        "\n",
        "        # Convert imagem para base64\n",
        "        with open(temp_file_path, \"rb\") as image_file:\n",
        "            encoded_string = base64.b64encode(image_file.read()).decode('utf-8')\n",
        "\n",
        "        # Adicionar imagem codificada ao prompt\n",
        "        chat_prompt = [\n",
        "            {\"role\": \"system\", \"content\": \"Você é uma IA especialista em cibersegurança\"},\n",
        "            {\"role\": \"user\", \"content\": {\"type\": \"text\", \"text\":prompt}},\n",
        "            {\"role\": \"user\", \"content\": {\"type\": \"image_url\", \"image_url\": f\"data:image/png;base64,{encoded_string}\"}}\n",
        "        ]\n",
        "\n",
        "\n",
        "        # Chamar o modelo OpenAI\n",
        "        response = client.chat(\n",
        "            messages= chat_prompt,\n",
        "            temperature=0.7,\n",
        "            max_tokens=1500,\n",
        "            top_p=0.95\n",
        "        )\n",
        "        os.remove(temp_file_path) # Remover o arquivo temporário após o uso\n",
        "\n",
        "        # Retornar a resposta do modelo\n",
        "        return JSONResponse(content=response.to_dict(), status_code=200)\n",
        "\n",
        "    except Exception as e:\n",
        "        return JSONResponse(content={\"error\": str(e)}, status_code=500)"
      ],
      "metadata": {
        "id": "bjDON7df36EM"
      },
      "execution_count": null,
      "outputs": []
    }
  ]
}